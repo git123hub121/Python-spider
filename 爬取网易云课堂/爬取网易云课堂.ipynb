{
 "metadata": {
  "language_info": {
   "codemirror_mode": {
    "name": "ipython",
    "version": 3
   },
   "file_extension": ".py",
   "mimetype": "text/x-python",
   "name": "python",
   "nbconvert_exporter": "python",
   "pygments_lexer": "ipython3",
   "version": "3.7.0-final"
  },
  "orig_nbformat": 2,
  "kernelspec": {
   "name": "python3",
   "display_name": "Python 3"
  }
 },
 "nbformat": 4,
 "nbformat_minor": 2,
 "cells": [
  {
   "cell_type": "code",
   "execution_count": 1,
   "metadata": {},
   "outputs": [],
   "source": [
    "import requests"
   ]
  },
  {
   "cell_type": "code",
   "execution_count": 2,
   "metadata": {},
   "outputs": [],
   "source": [
    "url = 'https://study.163.com/p/search/studycourse.json'\n",
    "headers = {\n",
    "    'user-agent': 'Mozilla/5.0 (Windows NT 10.0; Win64; x64) AppleWebKit/537.36 (KHTML, like Gecko) Chrome/87.0.4280.67 Safari/537.36 Edg/87.0.664.52'\n",
    "}"
   ]
  },
  {
   "cell_type": "code",
   "execution_count": 3,
   "metadata": {},
   "outputs": [],
   "source": [
    "payload = {\n",
    "    'activityId': 0,\n",
    "    'keyword': \"python\",\n",
    "    'orderType': 50,\n",
    "    'pageIndex': 1,\n",
    "    'pageSize': 50,\n",
    "    'priceType': -1,\n",
    "    'qualityType': 0,\n",
    "    'relativeOffset': 0,\n",
    "    'searchTimeType': -1\n",
    "}"
   ]
  },
  {
   "cell_type": "code",
   "execution_count": 4,
   "metadata": {},
   "outputs": [],
   "source": [
    "# req = requests.get(url=url,headers=headers)#get不行\n",
    "req = requests.post(url=url,json=payload,headers=headers)"
   ]
  },
  {
   "cell_type": "code",
   "execution_count": 5,
   "metadata": {},
   "outputs": [],
   "source": [
    "content_json = req.json()"
   ]
  },
  {
   "cell_type": "code",
   "execution_count": 6,
   "metadata": {},
   "outputs": [
    {
     "output_type": "execute_result",
     "data": {
      "text/plain": [
       "0"
      ]
     },
     "metadata": {},
     "execution_count": 6
    }
   ],
   "source": [
    "#输出发现，数据并不完全\n",
    "content_json['code']#json上对应的key是可以调用的"
   ]
  },
  {
   "cell_type": "code",
   "execution_count": 7,
   "metadata": {},
   "outputs": [
    {
     "output_type": "execute_result",
     "data": {
      "text/plain": [
       "50"
      ]
     },
     "metadata": {},
     "execution_count": 7
    }
   ],
   "source": [
    "# len(content_json)\n",
    "#content_json\n",
    "len(content_json['result']['list'])"
   ]
  },
  {
   "cell_type": "code",
   "execution_count": 8,
   "metadata": {},
   "outputs": [],
   "source": [
    "# .replace('\\n','').replace('*','').replace('【','').replace('】','').replace(' ','')"
   ]
  },
  {
   "cell_type": "code",
   "execution_count": 21,
   "metadata": {},
   "outputs": [
    {
     "output_type": "execute_result",
     "data": {
      "text/plain": [
       "[[1209346809,\n",
       "  'Python爬虫+Excel/VBA办公自动化',\n",
       "  '乐学偶得',\n",
       "  'https://edu-image.nosdn.127.net/98ba84ca0aae4faa85a7e71a7afa0957.png?imageView&quality=100&crop=0_15_1884_1062',\n",
       "  '中国加油！世界加油！全民战疫,独家附赠远程办公手机随处操控Window与Mac跨平台办公与自动办公结合等内容持续更新,2020全面升级0.独家微软官方力荐JSAPI自动办公混合开发实战1.系统化Python爬虫实战项目2.VBA零基础到系统进阶+Python+VBA+Windows原生接口混合开发3.Excel,PPT,Word,爬虫,自动邮件发送结合4.模块化思想,代码可灵活组合,构建适合自己的定制化项目干货多多,细致讲解,现场逐行讲解,零基础也可跟着视频操作1个课程包含同类5-10个课程知识点与项目一课巩固Python基础+进阶+各类实战、实用操作“法乎其上,得乎其中;法乎其中,得乎其下”——《论语》乐学偶得特聘国际专家团队教研，直接提升您的工作与学习效率，让您少走弯路内容前沿独家稀缺,不少职业VBA/Python讲师也在悄悄学习哦~嘘~\\\\(^v^)/GO例:自动办公部分，从简单VBA+Python现成库相互调用开始,从零基础轻松入门,逐步深入到自动办公操作流程本质与精髓（如世界棘手的WinAPI,COM,OLE,对象模型）与混合开发(HybridDev)等独家教研前沿技术跟专业的人,学专业事,欢迎大家加入哦~',\n",
       "  4020,\n",
       "  575,\n",
       "  159.0,\n",
       "  1],\n",
       " [1006129049,\n",
       "  'Python编程量化AI全栈零基础入门',\n",
       "  '乐学偶得',\n",
       "  'https://edu-image.nosdn.127.net/35b3a192f0054a9a87cd5c9d5bdad4d5.png?imageView&quality=100&crop=0_1_875_486',\n",
       "  '本系列课程包括零基础入门+高阶提高+实战运用+拓展篇2000+系列连载课程,科学,系统,成熟六大黑科技挑战任务作业互动激励机制挑战解锁价值上千元深度系列课程内容由世界500强内训师&实战经验丰富专家执教配套交流群老师答疑与课堂笔记与习题1.零基础入门从最简单自带编辑器开始，淡化晦涩专业词汇，将基础分散成小例子，充分利用碎片时间学习2.全栈架构师前端,后端,服务器,数据库等全面介绍,用Python打通任督二脉,实战FlaskDjango等热门框架,上线商业网站3.FinTech与量化交易基础到实战:不仅包括A股美股常规的自动交易,选股,择时,风控,回测系统搭建,更有宏观经济判断,行业投研,公司财务报表分析,建模与估值等全流程分析.并加入机器学习,自然语言处理等前沿技术助力4.数据科学与机器学习从零开始介绍数据科学常用方法与机器学习,从原理层面理解“黑箱”。进阶部分实战深度学习与Tensorflow等框架5.选修AI视觉自动驾驶结合AI与计算机视觉,搭建自动驾驶系统6.Python高阶系统的算法数据结构强化训练,世界500强面试经典题目讲解7.有趣DIY爬虫操控ExcelWordPPT微信邮件提升工作效率生活品质',\n",
       "  8897,\n",
       "  1020,\n",
       "  199.0,\n",
       "  1],\n",
       " [1004119028,\n",
       "  '邢不行—Python股票量化投资课程',\n",
       "  '邢不行python量化',\n",
       "  'https://edu-image.nosdn.127.net/64ac5acf-4726-4145-aaa1-8251196eccec.png?imageView&quality=100&crop=0_0_439_247',\n",
       "  '试看点击上方目录，查看课程试看部分，干货很多哦！好评查看课程真实评论，了解之前学生对课程的看法。课程特色：★无需编程基础小白从零上手★大量实战案例作为配套作业★配套社群、助教，全程答疑',\n",
       "  808,\n",
       "  39,\n",
       "  1688.0,\n",
       "  2]]"
      ]
     },
     "metadata": {},
     "execution_count": 21
    }
   ],
   "source": [
    "info_list = []\n",
    "(productId,productName,provider,imgUrl,info,learnerCount,lessonCount,originalPrice,machineGrade) = ([],[],[],[],[],[],[],[],[])\n",
    "for i in range(len(content_json['result']['list'])):\n",
    "    getinfo = []\n",
    "    pId = content_json['result']['list'][i]['productId']\n",
    "    pName = content_json['result']['list'][i]['productName']\n",
    "    pder = content_json['result']['list'][i]['provider']\n",
    "    img = content_json['result']['list'][i]['imgUrl']\n",
    "    inf = content_json['result']['list'][i]['description']\n",
    "    lCount = content_json['result']['list'][i]['learnerCount']\n",
    "    lesCount = content_json['result']['list'][i]['lessonCount']\n",
    "    Price = content_json['result']['list'][i]['originalPrice']\n",
    "    mGrade = content_json['result']['list'][i]['machineGrade']\n",
    "    if inf != None:\n",
    "        inf = inf.replace('\\n','').replace('*','').replace('【','').replace('】','').replace(' ','').replace('=','')\n",
    "    #1\n",
    "    getinfo.append(pId)\n",
    "    getinfo.append(pName)\n",
    "    getinfo.append(pder)\n",
    "    getinfo.append(img)\n",
    "    getinfo.append(inf)\n",
    "    getinfo.append(lCount)\n",
    "    getinfo.append(lesCount)\n",
    "    getinfo.append(Price)\n",
    "    getinfo.append(mGrade)\n",
    "\n",
    "    info_list.append(getinfo)\n",
    "    #2\n",
    "    productId.append(pId)\n",
    "    productName.append(pName)\n",
    "    provider.append(pder)\n",
    "    imgUrl.append(img)\n",
    "    info.append(inf)\n",
    "    learnerCount.append(lCount)\n",
    "    lessonCount.append(lesCount)\n",
    "    originalPrice.append(Price)\n",
    "    machineGrade.append(mGrade)\n",
    "info_list[:3]"
   ]
  },
  {
   "cell_type": "code",
   "execution_count": 10,
   "metadata": {},
   "outputs": [],
   "source": [
    "# getinfo = (productId,productName,provider,imgUrl,info,learnerCount,lessonCount,originalPrice,machineGrade)"
   ]
  },
  {
   "cell_type": "code",
   "execution_count": 22,
   "metadata": {},
   "outputs": [],
   "source": [
    "#构建字典，存储数据\n",
    "# data_list = {\n",
    "#     'cid' : productId,\n",
    "#     'cname' : productName,\n",
    "#     'cp' : provider,\n",
    "#     'img' : imgUrl,\n",
    "#     'info' : info,\n",
    "#     'study_c' : learnerCount,\n",
    "#     'les_c' : lessonCount,\n",
    "#     'price' : originalPrice,\n",
    "#     'mg' : machineGrade\n",
    "# }\n",
    "data_list = {\n",
    "    'cid' : productId,\n",
    "    'cname' : productName,\n",
    "    'cp' : provider,\n",
    "    'img' : imgUrl,\n",
    "    'info' : info,\n",
    "    'study_c' : learnerCount,\n",
    "    'les_c' : lessonCount,\n",
    "    'price' : originalPrice,\n",
    "    'mg' : machineGrade\n",
    "}"
   ]
  },
  {
   "cell_type": "code",
   "execution_count": 23,
   "metadata": {
    "tags": []
   },
   "outputs": [],
   "source": [
    "#1.保存数据---join\n",
    "# import csv\n",
    "# name = ['cid','cname','cp','img','info','study_c','les_c','price','mg']\n",
    "# with open('网易云.csv','w',encoding='utf-8',newline='') as f:\n",
    "#     savedata = csv.writer(f, delimiter=',')#分隔符设置\n",
    "#     savedata.writerow(name)#添加表头\n",
    "#     for data in info_list:\n",
    "#         savedata.writerow(data)\n",
    "        # print(data)\n",
    "    "
   ]
  },
  {
   "cell_type": "code",
   "execution_count": 24,
   "metadata": {},
   "outputs": [],
   "source": [
    "#2.pd\n",
    "import pandas as pd\n",
    "pd.DataFrame(data = data_list).to_excel('网易云课堂.xlsx',index = None)"
   ]
  },
  {
   "cell_type": "code",
   "execution_count": null,
   "metadata": {},
   "outputs": [],
   "source": []
  }
 ]
}